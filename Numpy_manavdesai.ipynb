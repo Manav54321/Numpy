{
  "nbformat": 4,
  "nbformat_minor": 0,
  "metadata": {
    "colab": {
      "provenance": []
    },
    "kernelspec": {
      "name": "python3",
      "display_name": "Python 3"
    },
    "language_info": {
      "name": "python"
    }
  },
  "cells": [
    {
      "cell_type": "code",
      "execution_count": 2,
      "metadata": {
        "id": "9sLiJrCAs3mj"
      },
      "outputs": [],
      "source": [
        "import numpy as np"
      ]
    },
    {
      "cell_type": "markdown",
      "source": [
        "- Numpy is a low level library written in C (and Fortran) for performing high level mathematical functions.\n",
        "- Speed of C and comfert of python.\n",
        "- A powerfull n-dimentional array.\n",
        "- Capabilities of linear algebra, fourier transform and random numbers."
      ],
      "metadata": {
        "id": "igXRLvEjKKEe"
      }
    },
    {
      "cell_type": "code",
      "source": [
        "a1 = np.ones((2,3))\n",
        "# assigns value 1 to all the rows and columns"
      ],
      "metadata": {
        "id": "axC7dOAoJOTg"
      },
      "execution_count": 3,
      "outputs": []
    },
    {
      "cell_type": "code",
      "source": [
        "a1"
      ],
      "metadata": {
        "colab": {
          "base_uri": "https://localhost:8080/"
        },
        "id": "qNgQyACgJViq",
        "outputId": "76ea0567-8db7-4a04-c2fd-52636c0cd717"
      },
      "execution_count": 4,
      "outputs": [
        {
          "output_type": "execute_result",
          "data": {
            "text/plain": [
              "array([[1., 1., 1.],\n",
              "       [1., 1., 1.]])"
            ]
          },
          "metadata": {},
          "execution_count": 4
        }
      ]
    },
    {
      "cell_type": "code",
      "source": [
        "a0 = np.zeros((3,3))"
      ],
      "metadata": {
        "id": "He9mfrMnJZAH"
      },
      "execution_count": 5,
      "outputs": []
    },
    {
      "cell_type": "code",
      "source": [
        "a0"
      ],
      "metadata": {
        "colab": {
          "base_uri": "https://localhost:8080/"
        },
        "id": "fGHpHADOJdxz",
        "outputId": "03aa0b63-94db-4d5a-c698-7105ac6fcb2b"
      },
      "execution_count": 6,
      "outputs": [
        {
          "output_type": "execute_result",
          "data": {
            "text/plain": [
              "array([[0., 0., 0.],\n",
              "       [0., 0., 0.],\n",
              "       [0., 0., 0.]])"
            ]
          },
          "metadata": {},
          "execution_count": 6
        }
      ]
    },
    {
      "cell_type": "code",
      "source": [
        "a5 = np.identity(5)\n",
        "# identity matrix"
      ],
      "metadata": {
        "id": "cg10Sac_JkGv"
      },
      "execution_count": 7,
      "outputs": []
    },
    {
      "cell_type": "code",
      "source": [
        "a5"
      ],
      "metadata": {
        "colab": {
          "base_uri": "https://localhost:8080/"
        },
        "id": "JpcjlRAjJt8v",
        "outputId": "87dbc010-77b9-42ea-e17d-170abde8ac05"
      },
      "execution_count": 8,
      "outputs": [
        {
          "output_type": "execute_result",
          "data": {
            "text/plain": [
              "array([[1., 0., 0., 0., 0.],\n",
              "       [0., 1., 0., 0., 0.],\n",
              "       [0., 0., 1., 0., 0.],\n",
              "       [0., 0., 0., 1., 0.],\n",
              "       [0., 0., 0., 0., 1.]])"
            ]
          },
          "metadata": {},
          "execution_count": 8
        }
      ]
    },
    {
      "cell_type": "code",
      "source": [
        "arr = np.arange(10)\n",
        "# range of array"
      ],
      "metadata": {
        "id": "DorYhDRvJu-X"
      },
      "execution_count": 9,
      "outputs": []
    },
    {
      "cell_type": "code",
      "source": [
        "arr"
      ],
      "metadata": {
        "colab": {
          "base_uri": "https://localhost:8080/"
        },
        "id": "TO_BpXiKJ92p",
        "outputId": "a1806ffb-789e-4493-fb12-a99d492e07f0"
      },
      "execution_count": 10,
      "outputs": [
        {
          "output_type": "execute_result",
          "data": {
            "text/plain": [
              "array([0, 1, 2, 3, 4, 5, 6, 7, 8, 9])"
            ]
          },
          "metadata": {},
          "execution_count": 10
        }
      ]
    },
    {
      "cell_type": "code",
      "source": [
        "arr1 = np.linspace(1,10,5)\n",
        "# space of 5 between 1 to 10"
      ],
      "metadata": {
        "id": "Hy3UpYo1J-kZ"
      },
      "execution_count": 11,
      "outputs": []
    },
    {
      "cell_type": "code",
      "source": [
        "arr1"
      ],
      "metadata": {
        "colab": {
          "base_uri": "https://localhost:8080/"
        },
        "id": "rkyo08UGLYdJ",
        "outputId": "403e8818-d936-469a-f55a-95897d1effce"
      },
      "execution_count": 12,
      "outputs": [
        {
          "output_type": "execute_result",
          "data": {
            "text/plain": [
              "array([ 1.  ,  3.25,  5.5 ,  7.75, 10.  ])"
            ]
          },
          "metadata": {},
          "execution_count": 12
        }
      ]
    },
    {
      "cell_type": "code",
      "source": [
        "arr1.shape"
      ],
      "metadata": {
        "colab": {
          "base_uri": "https://localhost:8080/"
        },
        "id": "04elBmOfLim7",
        "outputId": "55bd4f93-00fa-4952-9ad0-daddca1598f8"
      },
      "execution_count": 13,
      "outputs": [
        {
          "output_type": "execute_result",
          "data": {
            "text/plain": [
              "(5,)"
            ]
          },
          "metadata": {},
          "execution_count": 13
        }
      ]
    },
    {
      "cell_type": "code",
      "source": [
        "a0.shape"
      ],
      "metadata": {
        "colab": {
          "base_uri": "https://localhost:8080/"
        },
        "id": "5cobGQ4_MNGe",
        "outputId": "8af36575-ec98-4ce8-d23d-ec826cee4410"
      },
      "execution_count": 14,
      "outputs": [
        {
          "output_type": "execute_result",
          "data": {
            "text/plain": [
              "(3, 3)"
            ]
          },
          "metadata": {},
          "execution_count": 14
        }
      ]
    },
    {
      "cell_type": "code",
      "source": [
        "a0.size\n",
        "# no. of items in array"
      ],
      "metadata": {
        "colab": {
          "base_uri": "https://localhost:8080/"
        },
        "id": "fLDJrGbHMQ6g",
        "outputId": "6c4142c1-9384-4597-eb0b-12ef49ba8bc5"
      },
      "execution_count": 15,
      "outputs": [
        {
          "output_type": "execute_result",
          "data": {
            "text/plain": [
              "9"
            ]
          },
          "metadata": {},
          "execution_count": 15
        }
      ]
    },
    {
      "cell_type": "code",
      "source": [
        "arr1.itemsize\n",
        "# size of each item in array"
      ],
      "metadata": {
        "colab": {
          "base_uri": "https://localhost:8080/"
        },
        "id": "QllIQNavNMoL",
        "outputId": "b886cc71-1e7a-4cb7-9d90-ee7af03a9993"
      },
      "execution_count": 16,
      "outputs": [
        {
          "output_type": "execute_result",
          "data": {
            "text/plain": [
              "8"
            ]
          },
          "metadata": {},
          "execution_count": 16
        }
      ]
    },
    {
      "cell_type": "code",
      "source": [
        "arr.itemsize"
      ],
      "metadata": {
        "colab": {
          "base_uri": "https://localhost:8080/"
        },
        "id": "usb4MCd3O4Ad",
        "outputId": "891d9c94-fa1f-43bc-e7f5-7fc69fae81c5"
      },
      "execution_count": 17,
      "outputs": [
        {
          "output_type": "execute_result",
          "data": {
            "text/plain": [
              "8"
            ]
          },
          "metadata": {},
          "execution_count": 17
        }
      ]
    },
    {
      "cell_type": "code",
      "source": [
        "arr.astype('float64')\n",
        "# int to float"
      ],
      "metadata": {
        "colab": {
          "base_uri": "https://localhost:8080/"
        },
        "id": "omCFcd6AO8mY",
        "outputId": "3c1832b3-a4ec-4c35-ab79-7308b02da544"
      },
      "execution_count": 18,
      "outputs": [
        {
          "output_type": "execute_result",
          "data": {
            "text/plain": [
              "array([0., 1., 2., 3., 4., 5., 6., 7., 8., 9.])"
            ]
          },
          "metadata": {},
          "execution_count": 18
        }
      ]
    },
    {
      "cell_type": "code",
      "source": [
        "arr1.astype('int32')"
      ],
      "metadata": {
        "colab": {
          "base_uri": "https://localhost:8080/"
        },
        "id": "rtCUL-FvPghs",
        "outputId": "4d2b9d6f-1f5e-42fc-aeef-90d24d7b295a"
      },
      "execution_count": 19,
      "outputs": [
        {
          "output_type": "execute_result",
          "data": {
            "text/plain": [
              "array([ 1,  3,  5,  7, 10], dtype=int32)"
            ]
          },
          "metadata": {},
          "execution_count": 19
        }
      ]
    },
    {
      "cell_type": "code",
      "source": [
        "arr12 = np.arange(24).reshape(6,4)"
      ],
      "metadata": {
        "id": "CuTwB75TPltT"
      },
      "execution_count": 20,
      "outputs": []
    },
    {
      "cell_type": "code",
      "source": [
        "arr12"
      ],
      "metadata": {
        "colab": {
          "base_uri": "https://localhost:8080/"
        },
        "id": "cKgOmkYUTOui",
        "outputId": "ad3f6b24-2d42-4e60-ac0c-80d1a1cff18a"
      },
      "execution_count": 21,
      "outputs": [
        {
          "output_type": "execute_result",
          "data": {
            "text/plain": [
              "array([[ 0,  1,  2,  3],\n",
              "       [ 4,  5,  6,  7],\n",
              "       [ 8,  9, 10, 11],\n",
              "       [12, 13, 14, 15],\n",
              "       [16, 17, 18, 19],\n",
              "       [20, 21, 22, 23]])"
            ]
          },
          "metadata": {},
          "execution_count": 21
        }
      ]
    },
    {
      "cell_type": "code",
      "source": [
        "arr1[3]"
      ],
      "metadata": {
        "colab": {
          "base_uri": "https://localhost:8080/"
        },
        "id": "cwuMOJ1BTQpw",
        "outputId": "ee51fdee-b99f-4f57-a539-7ec5166f25c8"
      },
      "execution_count": 22,
      "outputs": [
        {
          "output_type": "execute_result",
          "data": {
            "text/plain": [
              "7.75"
            ]
          },
          "metadata": {},
          "execution_count": 22
        }
      ]
    },
    {
      "cell_type": "code",
      "source": [
        "arr1[-1]"
      ],
      "metadata": {
        "colab": {
          "base_uri": "https://localhost:8080/"
        },
        "id": "Nrk1XXT4TW5v",
        "outputId": "9b6ddca2-97db-4b0e-b0cd-194cd0340f77"
      },
      "execution_count": 23,
      "outputs": [
        {
          "output_type": "execute_result",
          "data": {
            "text/plain": [
              "10.0"
            ]
          },
          "metadata": {},
          "execution_count": 23
        }
      ]
    },
    {
      "cell_type": "code",
      "source": [
        "arr12[2]\n",
        "# 3rd row of the matrix"
      ],
      "metadata": {
        "colab": {
          "base_uri": "https://localhost:8080/"
        },
        "id": "3SRJoomPTboC",
        "outputId": "3c4ec0cc-a70a-4134-e986-fa326b227e82"
      },
      "execution_count": 24,
      "outputs": [
        {
          "output_type": "execute_result",
          "data": {
            "text/plain": [
              "array([ 8,  9, 10, 11])"
            ]
          },
          "metadata": {},
          "execution_count": 24
        }
      ]
    },
    {
      "cell_type": "code",
      "source": [
        "arr12[:2]\n",
        "# untill 3rd row of the matrix\n",
        "# [0:2,0:]"
      ],
      "metadata": {
        "colab": {
          "base_uri": "https://localhost:8080/"
        },
        "id": "x5pBhRCoUCky",
        "outputId": "81fdfd5e-89ed-4435-c2e8-af1bd9d7ef86"
      },
      "execution_count": 25,
      "outputs": [
        {
          "output_type": "execute_result",
          "data": {
            "text/plain": [
              "array([[0, 1, 2, 3],\n",
              "       [4, 5, 6, 7]])"
            ]
          },
          "metadata": {},
          "execution_count": 25
        }
      ]
    },
    {
      "cell_type": "code",
      "source": [
        "arr12[:,2]\n",
        "# 3rd column of the matrix\n",
        "# [0:,2]"
      ],
      "metadata": {
        "colab": {
          "base_uri": "https://localhost:8080/"
        },
        "id": "dT4nbj8WUXuL",
        "outputId": "75987d9a-0def-4c14-81ee-eae11e1a9fde"
      },
      "execution_count": 26,
      "outputs": [
        {
          "output_type": "execute_result",
          "data": {
            "text/plain": [
              "array([ 2,  6, 10, 14, 18, 22])"
            ]
          },
          "metadata": {},
          "execution_count": 26
        }
      ]
    },
    {
      "cell_type": "code",
      "source": [
        "arr12[0:,2:4]"
      ],
      "metadata": {
        "colab": {
          "base_uri": "https://localhost:8080/"
        },
        "id": "PSituJYrUqe8",
        "outputId": "b904ce82-88a6-45fe-fad8-17bc87005214"
      },
      "execution_count": 27,
      "outputs": [
        {
          "output_type": "execute_result",
          "data": {
            "text/plain": [
              "array([[ 2,  3],\n",
              "       [ 6,  7],\n",
              "       [10, 11],\n",
              "       [14, 15],\n",
              "       [18, 19],\n",
              "       [22, 23]])"
            ]
          },
          "metadata": {},
          "execution_count": 27
        }
      ]
    },
    {
      "cell_type": "code",
      "source": [
        "arr12[2:4,1:3]\n",
        "# middle 4 elements of the matrix"
      ],
      "metadata": {
        "colab": {
          "base_uri": "https://localhost:8080/"
        },
        "id": "2hqjmAOkU7_s",
        "outputId": "6fb781c1-d54a-41f2-9462-1a093caf59f2"
      },
      "execution_count": 28,
      "outputs": [
        {
          "output_type": "execute_result",
          "data": {
            "text/plain": [
              "array([[ 9, 10],\n",
              "       [13, 14]])"
            ]
          },
          "metadata": {},
          "execution_count": 28
        }
      ]
    },
    {
      "cell_type": "code",
      "source": [
        "arr12[4:6,2:4]\n",
        "# last two elements of the matrix"
      ],
      "metadata": {
        "colab": {
          "base_uri": "https://localhost:8080/"
        },
        "id": "SdLg8ww0V6A1",
        "outputId": "80793ee7-678d-4938-b7fd-7c842f429d7f"
      },
      "execution_count": 29,
      "outputs": [
        {
          "output_type": "execute_result",
          "data": {
            "text/plain": [
              "array([[18, 19],\n",
              "       [22, 23]])"
            ]
          },
          "metadata": {},
          "execution_count": 29
        }
      ]
    },
    {
      "cell_type": "code",
      "source": [
        "arr21 = np.array([1,2,3,4,5])\n",
        "arr22 = np.array([6,7,8,9,10])"
      ],
      "metadata": {
        "id": "TNlAzvcQWksb"
      },
      "execution_count": 30,
      "outputs": []
    },
    {
      "cell_type": "code",
      "source": [
        "arr21-arr22"
      ],
      "metadata": {
        "colab": {
          "base_uri": "https://localhost:8080/"
        },
        "id": "TU0sRONXwMfN",
        "outputId": "7426377b-4456-4b74-8cfc-41d403bf73e7"
      },
      "execution_count": 31,
      "outputs": [
        {
          "output_type": "execute_result",
          "data": {
            "text/plain": [
              "array([-5, -5, -5, -5, -5])"
            ]
          },
          "metadata": {},
          "execution_count": 31
        }
      ]
    },
    {
      "cell_type": "code",
      "source": [
        "arr21*arr22\n",
        "# normal multiplication"
      ],
      "metadata": {
        "colab": {
          "base_uri": "https://localhost:8080/"
        },
        "id": "EsisNgknwRda",
        "outputId": "42fc6882-292c-4941-d650-f170ef41f0cd"
      },
      "execution_count": 32,
      "outputs": [
        {
          "output_type": "execute_result",
          "data": {
            "text/plain": [
              "array([ 6, 14, 24, 36, 50])"
            ]
          },
          "metadata": {},
          "execution_count": 32
        }
      ]
    },
    {
      "cell_type": "code",
      "source": [
        "a10 = np.arange(6).reshape(2,3)"
      ],
      "metadata": {
        "id": "LHB0lU_swnGQ"
      },
      "execution_count": 33,
      "outputs": []
    },
    {
      "cell_type": "code",
      "source": [
        "a10"
      ],
      "metadata": {
        "colab": {
          "base_uri": "https://localhost:8080/"
        },
        "id": "tk2pFjX9xm3u",
        "outputId": "a073b5b2-f455-48db-fd52-87ffe659c65e"
      },
      "execution_count": 34,
      "outputs": [
        {
          "output_type": "execute_result",
          "data": {
            "text/plain": [
              "array([[0, 1, 2],\n",
              "       [3, 4, 5]])"
            ]
          },
          "metadata": {},
          "execution_count": 34
        }
      ]
    },
    {
      "cell_type": "code",
      "source": [
        "a11 = np.arange(6,12).reshape(3,2)"
      ],
      "metadata": {
        "id": "djGH_lbkx2yS"
      },
      "execution_count": 35,
      "outputs": []
    },
    {
      "cell_type": "code",
      "source": [
        "a11"
      ],
      "metadata": {
        "colab": {
          "base_uri": "https://localhost:8080/"
        },
        "id": "PoN4zxxSyU09",
        "outputId": "26ec4c15-cc1c-4607-b0b1-c1a464c82b5c"
      },
      "execution_count": 36,
      "outputs": [
        {
          "output_type": "execute_result",
          "data": {
            "text/plain": [
              "array([[ 6,  7],\n",
              "       [ 8,  9],\n",
              "       [10, 11]])"
            ]
          },
          "metadata": {},
          "execution_count": 36
        }
      ]
    },
    {
      "cell_type": "code",
      "source": [
        "a10.dot(a11)"
      ],
      "metadata": {
        "colab": {
          "base_uri": "https://localhost:8080/"
        },
        "id": "5-O_x_H1yVmr",
        "outputId": "d5818c0c-b42e-46a0-cc28-747df20e1d99"
      },
      "execution_count": 37,
      "outputs": [
        {
          "output_type": "execute_result",
          "data": {
            "text/plain": [
              "array([[ 28,  31],\n",
              "       [100, 112]])"
            ]
          },
          "metadata": {},
          "execution_count": 37
        }
      ]
    },
    {
      "cell_type": "code",
      "source": [
        "a11"
      ],
      "metadata": {
        "colab": {
          "base_uri": "https://localhost:8080/"
        },
        "id": "2eYcFVL6yYbO",
        "outputId": "9c2bc324-9dd7-40a6-ac29-9f3b62b81736"
      },
      "execution_count": 38,
      "outputs": [
        {
          "output_type": "execute_result",
          "data": {
            "text/plain": [
              "array([[ 6,  7],\n",
              "       [ 8,  9],\n",
              "       [10, 11]])"
            ]
          },
          "metadata": {},
          "execution_count": 38
        }
      ]
    },
    {
      "cell_type": "code",
      "source": [
        "a11.min()"
      ],
      "metadata": {
        "colab": {
          "base_uri": "https://localhost:8080/"
        },
        "id": "YyEAEWG_ytH4",
        "outputId": "14606ade-44de-4d89-c8e3-5f27686ef4fc"
      },
      "execution_count": 39,
      "outputs": [
        {
          "output_type": "execute_result",
          "data": {
            "text/plain": [
              "6"
            ]
          },
          "metadata": {},
          "execution_count": 39
        }
      ]
    },
    {
      "cell_type": "code",
      "source": [
        "a11.max()"
      ],
      "metadata": {
        "colab": {
          "base_uri": "https://localhost:8080/"
        },
        "id": "FuJ1UAIzyvUF",
        "outputId": "8e2ced4c-e8a8-4879-d9dc-16ef18ba8f65"
      },
      "execution_count": 40,
      "outputs": [
        {
          "output_type": "execute_result",
          "data": {
            "text/plain": [
              "11"
            ]
          },
          "metadata": {},
          "execution_count": 40
        }
      ]
    },
    {
      "cell_type": "code",
      "source": [
        "a11.min(axis=0)\n",
        "# column wise"
      ],
      "metadata": {
        "colab": {
          "base_uri": "https://localhost:8080/"
        },
        "id": "EaQNCQUFyx7o",
        "outputId": "511f7a80-f43f-47e6-c514-bd662e3d7dc6"
      },
      "execution_count": 41,
      "outputs": [
        {
          "output_type": "execute_result",
          "data": {
            "text/plain": [
              "array([6, 7])"
            ]
          },
          "metadata": {},
          "execution_count": 41
        }
      ]
    },
    {
      "cell_type": "code",
      "source": [
        "a11.min(axis=1)\n",
        "# row wise"
      ],
      "metadata": {
        "colab": {
          "base_uri": "https://localhost:8080/"
        },
        "id": "J9Pw1WIay73s",
        "outputId": "23e35420-0edb-4ad2-89aa-a4ebe910e5e8"
      },
      "execution_count": 42,
      "outputs": [
        {
          "output_type": "execute_result",
          "data": {
            "text/plain": [
              "array([ 6,  8, 10])"
            ]
          },
          "metadata": {},
          "execution_count": 42
        }
      ]
    },
    {
      "cell_type": "code",
      "source": [
        "a11.sum(axis=0)"
      ],
      "metadata": {
        "colab": {
          "base_uri": "https://localhost:8080/"
        },
        "id": "ZpoTPOmBzQPH",
        "outputId": "9e62144f-fcb1-4682-cc8d-c0d1baad32d7"
      },
      "execution_count": 43,
      "outputs": [
        {
          "output_type": "execute_result",
          "data": {
            "text/plain": [
              "array([24, 27])"
            ]
          },
          "metadata": {},
          "execution_count": 43
        }
      ]
    },
    {
      "cell_type": "code",
      "source": [
        "a11.sum(axis=1)"
      ],
      "metadata": {
        "colab": {
          "base_uri": "https://localhost:8080/"
        },
        "id": "dq2iaycqzeDa",
        "outputId": "9ed24678-3a4c-496d-b31b-831cec0affd1"
      },
      "execution_count": 44,
      "outputs": [
        {
          "output_type": "execute_result",
          "data": {
            "text/plain": [
              "array([13, 17, 21])"
            ]
          },
          "metadata": {},
          "execution_count": 44
        }
      ]
    },
    {
      "cell_type": "code",
      "source": [
        "a11.mean()"
      ],
      "metadata": {
        "colab": {
          "base_uri": "https://localhost:8080/"
        },
        "id": "AHWYiJS9zgHl",
        "outputId": "e8eccf17-ab9e-4f78-d29f-72ae52c28634"
      },
      "execution_count": 45,
      "outputs": [
        {
          "output_type": "execute_result",
          "data": {
            "text/plain": [
              "8.5"
            ]
          },
          "metadata": {},
          "execution_count": 45
        }
      ]
    },
    {
      "cell_type": "code",
      "source": [
        "a11.std()"
      ],
      "metadata": {
        "colab": {
          "base_uri": "https://localhost:8080/"
        },
        "id": "WKfNFnQczq4p",
        "outputId": "fa80d223-7e2c-4d15-fe32-1b1efbb4434a"
      },
      "execution_count": 46,
      "outputs": [
        {
          "output_type": "execute_result",
          "data": {
            "text/plain": [
              "1.707825127659933"
            ]
          },
          "metadata": {},
          "execution_count": 46
        }
      ]
    },
    {
      "cell_type": "code",
      "source": [
        "np.median(a11)"
      ],
      "metadata": {
        "colab": {
          "base_uri": "https://localhost:8080/"
        },
        "id": "67RgQvUPzxnG",
        "outputId": "0a1204b3-d3f7-4cb0-b624-08b4ef87be7e"
      },
      "execution_count": 47,
      "outputs": [
        {
          "output_type": "execute_result",
          "data": {
            "text/plain": [
              "8.5"
            ]
          },
          "metadata": {},
          "execution_count": 47
        }
      ]
    },
    {
      "cell_type": "code",
      "source": [
        "np.sin(a11)"
      ],
      "metadata": {
        "colab": {
          "base_uri": "https://localhost:8080/"
        },
        "id": "lIy5KpRCz69g",
        "outputId": "baceaa28-75c1-4099-a389-912f1dc5bbf0"
      },
      "execution_count": 48,
      "outputs": [
        {
          "output_type": "execute_result",
          "data": {
            "text/plain": [
              "array([[-0.2794155 ,  0.6569866 ],\n",
              "       [ 0.98935825,  0.41211849],\n",
              "       [-0.54402111, -0.99999021]])"
            ]
          },
          "metadata": {},
          "execution_count": 48
        }
      ]
    },
    {
      "cell_type": "code",
      "source": [
        "np.broadcast"
      ],
      "metadata": {
        "colab": {
          "base_uri": "https://localhost:8080/"
        },
        "id": "M2lyHy2k0MBZ",
        "outputId": "48276324-c12c-4ba5-b311-ce8f31e1c2be"
      },
      "execution_count": 49,
      "outputs": [
        {
          "output_type": "execute_result",
          "data": {
            "text/plain": [
              "numpy.broadcast"
            ]
          },
          "metadata": {},
          "execution_count": 49
        }
      ]
    },
    {
      "cell_type": "markdown",
      "source": [
        "A visualization of NumPy array broadcasting. Note that the extra memory indicated by the dotted boxes is never allocated, but it can be convenient to think about the operations as if it is.\n",
        "![image.png](data:image/png;base64,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)"
      ],
      "metadata": {
        "id": "gNzLzhgbO4i8"
      }
    },
    {
      "cell_type": "code",
      "source": [
        "np.random.random()"
      ],
      "metadata": {
        "colab": {
          "base_uri": "https://localhost:8080/"
        },
        "id": "9nCO342tPOJt",
        "outputId": "bddb1ee7-3d59-4682-d723-31798f501456"
      },
      "execution_count": 50,
      "outputs": [
        {
          "output_type": "execute_result",
          "data": {
            "text/plain": [
              "0.9825557543014105"
            ]
          },
          "metadata": {},
          "execution_count": 50
        }
      ]
    },
    {
      "cell_type": "markdown",
      "source": [
        "## reshaping the numpy array:\n",
        "- ravel\n",
        "- reshape\n",
        "- transpose\n",
        "- stacking\n",
        "- splitting"
      ],
      "metadata": {
        "id": "VBUMyqyFO6O3"
      }
    },
    {
      "cell_type": "code",
      "source": [
        "a11"
      ],
      "metadata": {
        "colab": {
          "base_uri": "https://localhost:8080/"
        },
        "id": "u84OhPUCPTMV",
        "outputId": "b5dbd350-f051-4927-9d99-11914b225ce0"
      },
      "execution_count": 51,
      "outputs": [
        {
          "output_type": "execute_result",
          "data": {
            "text/plain": [
              "array([[ 6,  7],\n",
              "       [ 8,  9],\n",
              "       [10, 11]])"
            ]
          },
          "metadata": {},
          "execution_count": 51
        }
      ]
    },
    {
      "cell_type": "code",
      "source": [
        "a11.ravel()\n",
        "# n-th dimension into 1-d array"
      ],
      "metadata": {
        "colab": {
          "base_uri": "https://localhost:8080/"
        },
        "id": "V06g-1wAPjgf",
        "outputId": "148350eb-2775-4bd0-b6a5-1c1ef0c830a8"
      },
      "execution_count": 53,
      "outputs": [
        {
          "output_type": "execute_result",
          "data": {
            "text/plain": [
              "array([ 6,  7,  8,  9, 10, 11])"
            ]
          },
          "metadata": {},
          "execution_count": 53
        }
      ]
    },
    {
      "cell_type": "code",
      "source": [
        "a11.transpose()"
      ],
      "metadata": {
        "colab": {
          "base_uri": "https://localhost:8080/"
        },
        "id": "7WvW8bQzPmeu",
        "outputId": "dbd24adc-ed28-4d6b-eda3-0d82e002f2c5"
      },
      "execution_count": 54,
      "outputs": [
        {
          "output_type": "execute_result",
          "data": {
            "text/plain": [
              "array([[ 6,  8, 10],\n",
              "       [ 7,  9, 11]])"
            ]
          },
          "metadata": {},
          "execution_count": 54
        }
      ]
    },
    {
      "cell_type": "code",
      "source": [
        "arr1 = np.array([[1,2,3],[4,5,6]])\n",
        "arr2 = np.array([[7,8,9],[10,11,12]])"
      ],
      "metadata": {
        "id": "uEOOP_d5P26V"
      },
      "execution_count": 59,
      "outputs": []
    },
    {
      "cell_type": "code",
      "source": [
        "arr1"
      ],
      "metadata": {
        "colab": {
          "base_uri": "https://localhost:8080/"
        },
        "id": "oWBR58stQrIa",
        "outputId": "c2039eff-4655-46fd-a515-c6b695c3050a"
      },
      "execution_count": 60,
      "outputs": [
        {
          "output_type": "execute_result",
          "data": {
            "text/plain": [
              "array([[1, 2, 3],\n",
              "       [4, 5, 6]])"
            ]
          },
          "metadata": {},
          "execution_count": 60
        }
      ]
    },
    {
      "cell_type": "code",
      "source": [
        "arr2"
      ],
      "metadata": {
        "colab": {
          "base_uri": "https://localhost:8080/"
        },
        "id": "cEfPUKLGQtMH",
        "outputId": "a0458e2e-4274-451a-a48a-536ac55a305a"
      },
      "execution_count": 61,
      "outputs": [
        {
          "output_type": "execute_result",
          "data": {
            "text/plain": [
              "array([[ 7,  8,  9],\n",
              "       [10, 11, 12]])"
            ]
          },
          "metadata": {},
          "execution_count": 61
        }
      ]
    },
    {
      "cell_type": "code",
      "source": [
        "np.hstack((arr1,arr2))"
      ],
      "metadata": {
        "colab": {
          "base_uri": "https://localhost:8080/"
        },
        "id": "ihTklgevQYRh",
        "outputId": "72ef7455-e879-4578-866b-55d9f12ed2a9"
      },
      "execution_count": 56,
      "outputs": [
        {
          "output_type": "execute_result",
          "data": {
            "text/plain": [
              "array([[ 1,  2,  3,  7,  8,  9],\n",
              "       [ 4,  5,  6, 10, 11, 12]])"
            ]
          },
          "metadata": {},
          "execution_count": 56
        }
      ]
    },
    {
      "cell_type": "code",
      "source": [
        "np.vstack((arr1,arr2))"
      ],
      "metadata": {
        "colab": {
          "base_uri": "https://localhost:8080/"
        },
        "id": "XzeWi3-PQdXE",
        "outputId": "ac286ecb-5ec2-4241-f68b-17a041909639"
      },
      "execution_count": 57,
      "outputs": [
        {
          "output_type": "execute_result",
          "data": {
            "text/plain": [
              "array([[ 1,  2,  3],\n",
              "       [ 4,  5,  6],\n",
              "       [ 7,  8,  9],\n",
              "       [10, 11, 12]])"
            ]
          },
          "metadata": {},
          "execution_count": 57
        }
      ]
    },
    {
      "cell_type": "code",
      "source": [
        "# splitting\n",
        "np.vsplit(arr1,2)\n",
        "# it splits the array vertically into two parts"
      ],
      "metadata": {
        "colab": {
          "base_uri": "https://localhost:8080/"
        },
        "id": "QAL9-2sbQf1_",
        "outputId": "8b533331-bfeb-4175-ca0b-b0411636fb7d"
      },
      "execution_count": 73,
      "outputs": [
        {
          "output_type": "execute_result",
          "data": {
            "text/plain": [
              "[array([[1, 2, 3]]), array([[4, 5, 6]])]"
            ]
          },
          "metadata": {},
          "execution_count": 73
        }
      ]
    },
    {
      "cell_type": "code",
      "source": [
        "# indexing using boolean arrays:\n",
        "arr3 = np.random.randint(low=1,high=100,size=20).reshape(4,5)\n",
        "arr3"
      ],
      "metadata": {
        "colab": {
          "base_uri": "https://localhost:8080/"
        },
        "id": "e5527dYSQ5v2",
        "outputId": "b3a6ab8b-9452-4f3f-aa45-b78e47e55726"
      },
      "execution_count": 83,
      "outputs": [
        {
          "output_type": "execute_result",
          "data": {
            "text/plain": [
              "array([[51, 26, 97, 94, 52],\n",
              "       [24, 30, 64, 54, 45],\n",
              "       [11, 52, 81, 47, 10],\n",
              "       [93, 19, 18, 35, 71]])"
            ]
          },
          "metadata": {},
          "execution_count": 83
        }
      ]
    },
    {
      "cell_type": "code",
      "source": [
        "arr3[0]"
      ],
      "metadata": {
        "colab": {
          "base_uri": "https://localhost:8080/"
        },
        "id": "YxqzU9s1Ruqq",
        "outputId": "ca2a21ec-7ca2-4e04-9448-ccf65717132e"
      },
      "execution_count": 84,
      "outputs": [
        {
          "output_type": "execute_result",
          "data": {
            "text/plain": [
              "array([51, 26, 97, 94, 52])"
            ]
          },
          "metadata": {},
          "execution_count": 84
        }
      ]
    },
    {
      "cell_type": "code",
      "source": [
        "array_50 = arr3 > 50\n",
        "# returns the True & False values"
      ],
      "metadata": {
        "id": "KMoS7hv-R9zW"
      },
      "execution_count": 90,
      "outputs": []
    },
    {
      "cell_type": "code",
      "source": [
        "arr3[array_50]"
      ],
      "metadata": {
        "colab": {
          "base_uri": "https://localhost:8080/"
        },
        "id": "kdzgoc-eSKeo",
        "outputId": "400cb7c1-7359-4b17-f3e4-2ca2b3758afb"
      },
      "execution_count": 91,
      "outputs": [
        {
          "output_type": "execute_result",
          "data": {
            "text/plain": [
              "array([51, 97, 94, 52, 64, 54, 52, 81, 93, 71])"
            ]
          },
          "metadata": {},
          "execution_count": 91
        }
      ]
    },
    {
      "cell_type": "code",
      "source": [],
      "metadata": {
        "id": "Gofh-QQvSOY4"
      },
      "execution_count": null,
      "outputs": []
    }
  ]
}